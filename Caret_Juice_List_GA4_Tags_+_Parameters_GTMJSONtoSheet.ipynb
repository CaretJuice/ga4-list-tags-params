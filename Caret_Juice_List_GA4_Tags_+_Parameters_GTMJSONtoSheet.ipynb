{
  "cells": [
    {
      "cell_type": "markdown",
      "metadata": {
        "id": "dSQ-a-zH7API"
      },
      "source": [
        "**Upload File**\n",
        "\n",
        "Upload a JSON file exported from GTM under Admin > Export Container"
      ]
    },
    {
      "cell_type": "code",
      "execution_count": null,
      "metadata": {
        "id": "dRHVlbzc6twz"
      },
      "outputs": [],
      "source": [
        "from google.colab import files\n",
        "uploaded = files.upload()"
      ]
    },
    {
      "cell_type": "markdown",
      "metadata": {
        "id": "GdjnNZ5N7Jh_"
      },
      "source": [
        "**Parse the Tags**\n",
        "\n",
        "Drill down into the tag section of the JSON export. For each tag, copy the tag settings that are common to all tags using the same name as in the export and then copy the parameters in the export that contain the unique configurations of each tag type adding a parameter_ prefix to identify parameters downstream.\n",
        "\n",
        "Save the tag data to a dictionary and list the first five entries."
      ]
    },
    {
      "cell_type": "code",
      "execution_count": null,
      "metadata": {
        "id": "a64bnsYddP7u"
      },
      "outputs": [],
      "source": [
        "%%capture\n",
        "!pip install -U 'fsspec[s3]'\n",
        "\n",
        "import json\n",
        "import pandas as pd\n",
        "\n",
        "uploaded_json = list(uploaded.values())[0]\n",
        "\n",
        "container = json.loads(uploaded_json.decode('utf-8'))\n",
        "# drill down to the tags section of the container\n",
        "# if you wanted to list something other than tags, this is where you would start making changes\n",
        "tags = container['containerVersion']['tag'] \n",
        "\n",
        "rows = []\n",
        "\n",
        "for tag in tags:\n",
        "  row = {}\n",
        "  if (tag['type'] == 'gaawe' ):\n",
        "    row['tagId'] = str(tag['tagId'])\n",
        "    row['name'] = str(tag['name'])\n",
        "    if \"parameter\" in tag:\n",
        "      for p in tag['parameter']:\n",
        "        if p['key'] == \"eventName\":\n",
        "          row['eventName'] = p['value']\n",
        "        if p['key'] == 'userProperties':\n",
        "          for li in p['list']:\n",
        "            key = \"default_key\"\n",
        "            value = \"default_value\"  \n",
        "            for item in li['map']:        \n",
        "              if item['key'] == 'name':\n",
        "                key = 'userProp_' + item['value']\n",
        "              if item['key'] == 'value':\n",
        "                value = str(item['value'])\n",
        "              row[key] = value\n",
        "        if p['key'] == 'eventSettingsTable':\n",
        "          for li in p['list']:\n",
        "            key = \"default_key\"\n",
        "            value = \"n/a\" \n",
        "            for item in li['map']:         \n",
        "              if item['type'] == 'TEMPLATE' and item['key'] == 'parameter':\n",
        "                key = 'eventParam_' + item['value']\n",
        "              if item['type'] == 'TEMPLATE' and item['key'] == 'parameterValue':\n",
        "                value = item['value']\n",
        "              if key != \"default_key\":\n",
        "                row[key] = value\n",
        "    rows.append(row)\n",
        "rows[:5]\n",
        "\n",
        "\n",
        "\n"
      ]
    },
    {
      "cell_type": "markdown",
      "metadata": {
        "id": "2ELy-aJXLNge"
      },
      "source": [
        "**Convert to DataFrame**\n",
        "\n",
        "Extract the container ID to use as the name of the Google Sheet and then convert the dictionary to a DataFrame. \n",
        "\n",
        "The resulting DataFrame will have a lot of null values in the parameter_-prefixed columns because the parameters are unique to each tag type.\n",
        "\n"
      ]
    },
    {
      "cell_type": "code",
      "execution_count": null,
      "metadata": {
        "id": "4Mv2v_c-VTag"
      },
      "outputs": [],
      "source": [
        "import re\n",
        "container_id = re.findall( \"GTM-[A-Z0-9]+\" , str(uploaded.keys())) \n",
        "\n",
        "data = pd.DataFrame(rows)\n",
        "data.head()"
      ]
    },
    {
      "cell_type": "markdown",
      "metadata": {
        "id": "7QmdTaXEM2hr"
      },
      "source": [
        "**Authenticate**\n",
        "\n",
        "This will open a new window where you need to log in to Google Accounts, give this Colab permission to access Drive, copy the key that gets generated after giving permission, and finally paste that key back here and complete the authentication.\n",
        "\n",
        "*2022-04-19: Updated authentication method*"
      ]
    },
    {
      "cell_type": "code",
      "execution_count": null,
      "metadata": {
        "id": "3nsT00AI7fTy"
      },
      "outputs": [],
      "source": [
        "# authenticate\n",
        "from google.colab import auth\n",
        "auth.authenticate_user()\n",
        "\n",
        "import gspread\n",
        "from google.auth import default\n",
        "creds, _ = default()\n",
        "\n",
        "gc = gspread.authorize(creds)"
      ]
    },
    {
      "cell_type": "markdown",
      "metadata": {
        "id": "hYzXGtEVNZS0"
      },
      "source": [
        "**Save to Google Sheets**\n",
        "\n",
        "The will save as a GSheet in your Google Drive with the title of \"GTM Tags for GTM-CONTAINERID.\" It will take a few minutes for the data to fully populate in the sheet so be patient."
      ]
    },
    {
      "cell_type": "code",
      "execution_count": null,
      "metadata": {
        "id": "zF7SsjXXv5Gl"
      },
      "outputs": [],
      "source": [
        "# create, and save df\n",
        "from gspread_dataframe import set_with_dataframe\n",
        "title = 'GTM GA4 Tags for ' + container_id[0]\n",
        "gc.create(title)  # if not exist\n",
        "sheet = gc.open(title).sheet1\n",
        "set_with_dataframe(sheet, data) \n",
        "# include_index=False, include_column_header=True, resize=False"
      ]
    }
  ],
  "metadata": {
    "colab": {
      "provenance": []
    },
    "kernelspec": {
      "display_name": "Python 3",
      "name": "python3"
    },
    "language_info": {
      "name": "python"
    }
  },
  "nbformat": 4,
  "nbformat_minor": 0
}
